{
 "cells": [
  {
   "cell_type": "code",
   "execution_count": 18,
   "metadata": {},
   "outputs": [],
   "source": [
    "import numpy as np\n",
    "import pandas as pd\n",
    "import seaborn as sns\n",
    "import matplotlib.pyplot as plt\n",
    "\n",
    "from sklearn.linear_model import LinearRegression\n",
    "from sklearn.metrics import mean_absolute_error"
   ]
  },
  {
   "cell_type": "markdown",
   "metadata": {},
   "source": [
    "Имеется статистика по расходам на покупки покупателей некоего товара-услуги массовогоо потребелния, который покупают все категории граждан (чем больше человек тратит, тем выше его доход). Также имеются данные об их доходе (считам, что мы просто имеем эту цифру в данных). В дата сете имеется информацию о количесте приобетенного товара, его цене, возраст покупеталя."
   ]
  },
  {
   "cell_type": "code",
   "execution_count": 19,
   "metadata": {},
   "outputs": [
    {
     "data": {
      "text/html": [
       "<div>\n",
       "<style scoped>\n",
       "    .dataframe tbody tr th:only-of-type {\n",
       "        vertical-align: middle;\n",
       "    }\n",
       "\n",
       "    .dataframe tbody tr th {\n",
       "        vertical-align: top;\n",
       "    }\n",
       "\n",
       "    .dataframe thead th {\n",
       "        text-align: right;\n",
       "    }\n",
       "</style>\n",
       "<table border=\"1\" class=\"dataframe\">\n",
       "  <thead>\n",
       "    <tr style=\"text-align: right;\">\n",
       "      <th></th>\n",
       "      <th>age</th>\n",
       "      <th>goodsprice</th>\n",
       "      <th>qty</th>\n",
       "      <th>salary</th>\n",
       "    </tr>\n",
       "  </thead>\n",
       "  <tbody>\n",
       "    <tr>\n",
       "      <td>0</td>\n",
       "      <td>51</td>\n",
       "      <td>1135</td>\n",
       "      <td>9</td>\n",
       "      <td>101591.610016</td>\n",
       "    </tr>\n",
       "    <tr>\n",
       "      <td>1</td>\n",
       "      <td>60</td>\n",
       "      <td>501</td>\n",
       "      <td>5</td>\n",
       "      <td>24491.610016</td>\n",
       "    </tr>\n",
       "    <tr>\n",
       "      <td>2</td>\n",
       "      <td>73</td>\n",
       "      <td>360</td>\n",
       "      <td>27</td>\n",
       "      <td>96641.610016</td>\n",
       "    </tr>\n",
       "    <tr>\n",
       "      <td>3</td>\n",
       "      <td>72</td>\n",
       "      <td>1079</td>\n",
       "      <td>20</td>\n",
       "      <td>215241.610016</td>\n",
       "    </tr>\n",
       "    <tr>\n",
       "      <td>4</td>\n",
       "      <td>31</td>\n",
       "      <td>377</td>\n",
       "      <td>24</td>\n",
       "      <td>89921.610016</td>\n",
       "    </tr>\n",
       "  </tbody>\n",
       "</table>\n",
       "</div>"
      ],
      "text/plain": [
       "   age  goodsprice  qty         salary\n",
       "0   51        1135    9  101591.610016\n",
       "1   60         501    5   24491.610016\n",
       "2   73         360   27   96641.610016\n",
       "3   72        1079   20  215241.610016\n",
       "4   31         377   24   89921.610016"
      ]
     },
     "execution_count": 19,
     "metadata": {},
     "output_type": "execute_result"
    }
   ],
   "source": [
    "n = 10000\n",
    "age = np.random.choice(60, n) + 20\n",
    "goodsprice = np.random.choice(1000, n) + 200\n",
    "qty = np.random.choice(29, n) + 1\n",
    "\n",
    "salary = goodsprice*qty*10 + np.random.normal()*1000\n",
    "\n",
    "data = pd.DataFrame({'age': age, 'goodsprice': goodsprice, 'qty': qty, 'salary': salary})\n",
    "data.head(5)"
   ]
  },
  {
   "cell_type": "markdown",
   "metadata": {},
   "source": [
    "Если посмотреть на зависиости признаков и целевой переменной, то они отличаются не только по характеру распределния, но и не совсем могут быть отнесены к линейной зависимости. при кувлиечении значний пирзнака ошибка будет значительно расти. "
   ]
  },
  {
   "cell_type": "code",
   "execution_count": 20,
   "metadata": {},
   "outputs": [
    {
     "data": {
      "text/plain": [
       "<matplotlib.axes._subplots.AxesSubplot at 0x1543e70cbc8>"
      ]
     },
     "execution_count": 20,
     "metadata": {},
     "output_type": "execute_result"
    },
    {
     "data": {
      "image/png": "[encoded data removed]",
      "text/plain": [
       "<Figure size 432x288 with 1 Axes>"
      ]
     },
     "metadata": {
      "needs_background": "light"
     },
     "output_type": "display_data"
    }
   ],
   "source": [
    "sns.distplot(data[['salary']])"
   ]
  },
  {
   "cell_type": "code",
   "execution_count": 21,
   "metadata": {},
   "outputs": [
    {
     "data": {
      "text/plain": [
       "<matplotlib.axes._subplots.AxesSubplot at 0x1543e7cfb88>"
      ]
     },
     "execution_count": 21,
     "metadata": {},
     "output_type": "execute_result"
    },
    {
     "data": {
      "image/png": "[encoded data removed]",
      "text/plain": [
       "<Figure size 432x288 with 1 Axes>"
      ]
     },
     "metadata": {
      "needs_background": "light"
     },
     "output_type": "display_data"
    }
   ],
   "source": [
    "sns.distplot(data[['goodsprice']])"
   ]
  },
  {
   "cell_type": "code",
   "execution_count": 22,
   "metadata": {},
   "outputs": [
    {
     "data": {
      "text/plain": [
       "<matplotlib.collections.PathCollection at 0x1543e8a1388>"
      ]
     },
     "execution_count": 22,
     "metadata": {},
     "output_type": "execute_result"
    },
    {
     "data": {
      "image/png": "[encoded data removed]",
      "text/plain": [
       "<Figure size 432x288 with 1 Axes>"
      ]
     },
     "metadata": {
      "needs_background": "light"
     },
     "output_type": "display_data"
    }
   ],
   "source": [
    "fig, ax = plt.subplots()\n",
    "ax.scatter(data[['qty']], data[['salary']])"
   ]
  },
  {
   "cell_type": "code",
   "execution_count": 23,
   "metadata": {},
   "outputs": [
    {
     "data": {
      "text/plain": [
       "85801.61001583959"
      ]
     },
     "execution_count": 23,
     "metadata": {},
     "output_type": "execute_result"
    }
   ],
   "source": [
    "data['salary'].median()"
   ]
  },
  {
   "cell_type": "markdown",
   "metadata": {},
   "source": [
    "Построим модель на основе всех признаков. В результате видим, что показатель качества модели МАЕ достаточно большой (плохой). То есть, при медианном значнии (берем медиану так как у нас гауссовское расределение salary) отклонение может быть порядка 20%. из графика видно, что с увеличением количества ошибка будет больше."
   ]
  },
  {
   "cell_type": "code",
   "execution_count": 24,
   "metadata": {},
   "outputs": [
    {
     "name": "stdout",
     "output_type": "stream",
     "text": [
      "Coef: [  19.84111055 6940.53804495  150.74325018]\n",
      "Intercept: -106139.59679819935\n",
      "MAE: 17888.393088719047\n"
     ]
    }
   ],
   "source": [
    "X = data[['age', 'qty', 'goodsprice']]\n",
    "y = data['salary']\n",
    "model_all = LinearRegression()\n",
    "model_all.fit(X, y)\n",
    "print(f'Coef: {model_all.coef_}')\n",
    "print(f'Intercept: {model_all.intercept_}')\n",
    "\n",
    "prediction = model_all.predict(X)\n",
    "print(f'MAE: {mean_absolute_error(prediction, y)}')"
   ]
  },
  {
   "cell_type": "markdown",
   "metadata": {},
   "source": [
    "Построим модель на основе одного признака. В результате видим, что показатель качества модели МАЕ стал еще хуже. Из графика видно, что с увеличением количества ошибка будет больше."
   ]
  },
  {
   "cell_type": "code",
   "execution_count": 25,
   "metadata": {},
   "outputs": [
    {
     "name": "stdout",
     "output_type": "stream",
     "text": [
      "Coef: [6945.53351938]\n",
      "Intercept: -478.0984689855686\n",
      "MAE: 37218.2583703595\n"
     ]
    }
   ],
   "source": [
    "X = data[['qty']]\n",
    "y = data['salary']\n",
    "model_one = LinearRegression()\n",
    "model_one.fit(X, y)\n",
    "print(f'Coef: {model_one.coef_}')\n",
    "print(f'Intercept: {model_one.intercept_}')\n",
    "\n",
    "prediction = model_one.predict(X)\n",
    "print(f'MAE: {mean_absolute_error(prediction, y)}')"
   ]
  },
  {
   "cell_type": "code",
   "execution_count": 26,
   "metadata": {},
   "outputs": [
    {
     "data": {
      "text/plain": [
       "<matplotlib.collections.PathCollection at 0x1543e90e548>"
      ]
     },
     "execution_count": 26,
     "metadata": {},
     "output_type": "execute_result"
    },
    {
     "data": {
      "image/png": "[encoded data removed]",
      "text/plain": [
       "<Figure size 432x288 with 1 Axes>"
      ]
     },
     "metadata": {
      "needs_background": "light"
     },
     "output_type": "display_data"
    }
   ],
   "source": [
    "fig, ax = plt.subplots()\n",
    "yyy = data[['qty']] * model_one.coef_ + model_one.intercept_\n",
    "ax.scatter(data[['qty']], data[['salary']])\n",
    "ax.scatter(data[['qty']], yyy)"
   ]
  },
  {
   "cell_type": "markdown",
   "metadata": {},
   "source": [
    "чтобы переменные были линейно зависим, их распределения значений должны быть похожи или одного типа. если перемножить qty и goodsprice, то новый признак будет схож с рампределением salary."
   ]
  },
  {
   "cell_type": "code",
   "execution_count": 27,
   "metadata": {},
   "outputs": [
    {
     "data": {
      "text/html": [
       "<div>\n",
       "<style scoped>\n",
       "    .dataframe tbody tr th:only-of-type {\n",
       "        vertical-align: middle;\n",
       "    }\n",
       "\n",
       "    .dataframe tbody tr th {\n",
       "        vertical-align: top;\n",
       "    }\n",
       "\n",
       "    .dataframe thead th {\n",
       "        text-align: right;\n",
       "    }\n",
       "</style>\n",
       "<table border=\"1\" class=\"dataframe\">\n",
       "  <thead>\n",
       "    <tr style=\"text-align: right;\">\n",
       "      <th></th>\n",
       "      <th>age</th>\n",
       "      <th>goodsprice</th>\n",
       "      <th>qty</th>\n",
       "      <th>salary</th>\n",
       "      <th>formula</th>\n",
       "    </tr>\n",
       "  </thead>\n",
       "  <tbody>\n",
       "    <tr>\n",
       "      <td>0</td>\n",
       "      <td>51</td>\n",
       "      <td>1135</td>\n",
       "      <td>9</td>\n",
       "      <td>101591.610016</td>\n",
       "      <td>10215</td>\n",
       "    </tr>\n",
       "    <tr>\n",
       "      <td>1</td>\n",
       "      <td>60</td>\n",
       "      <td>501</td>\n",
       "      <td>5</td>\n",
       "      <td>24491.610016</td>\n",
       "      <td>2505</td>\n",
       "    </tr>\n",
       "    <tr>\n",
       "      <td>2</td>\n",
       "      <td>73</td>\n",
       "      <td>360</td>\n",
       "      <td>27</td>\n",
       "      <td>96641.610016</td>\n",
       "      <td>9720</td>\n",
       "    </tr>\n",
       "    <tr>\n",
       "      <td>3</td>\n",
       "      <td>72</td>\n",
       "      <td>1079</td>\n",
       "      <td>20</td>\n",
       "      <td>215241.610016</td>\n",
       "      <td>21580</td>\n",
       "    </tr>\n",
       "    <tr>\n",
       "      <td>4</td>\n",
       "      <td>31</td>\n",
       "      <td>377</td>\n",
       "      <td>24</td>\n",
       "      <td>89921.610016</td>\n",
       "      <td>9048</td>\n",
       "    </tr>\n",
       "    <tr>\n",
       "      <td>...</td>\n",
       "      <td>...</td>\n",
       "      <td>...</td>\n",
       "      <td>...</td>\n",
       "      <td>...</td>\n",
       "      <td>...</td>\n",
       "    </tr>\n",
       "    <tr>\n",
       "      <td>9995</td>\n",
       "      <td>30</td>\n",
       "      <td>1149</td>\n",
       "      <td>12</td>\n",
       "      <td>137321.610016</td>\n",
       "      <td>13788</td>\n",
       "    </tr>\n",
       "    <tr>\n",
       "      <td>9996</td>\n",
       "      <td>53</td>\n",
       "      <td>974</td>\n",
       "      <td>7</td>\n",
       "      <td>67621.610016</td>\n",
       "      <td>6818</td>\n",
       "    </tr>\n",
       "    <tr>\n",
       "      <td>9997</td>\n",
       "      <td>61</td>\n",
       "      <td>465</td>\n",
       "      <td>25</td>\n",
       "      <td>115691.610016</td>\n",
       "      <td>11625</td>\n",
       "    </tr>\n",
       "    <tr>\n",
       "      <td>9998</td>\n",
       "      <td>69</td>\n",
       "      <td>808</td>\n",
       "      <td>16</td>\n",
       "      <td>128721.610016</td>\n",
       "      <td>12928</td>\n",
       "    </tr>\n",
       "    <tr>\n",
       "      <td>9999</td>\n",
       "      <td>51</td>\n",
       "      <td>1018</td>\n",
       "      <td>15</td>\n",
       "      <td>152141.610016</td>\n",
       "      <td>15270</td>\n",
       "    </tr>\n",
       "  </tbody>\n",
       "</table>\n",
       "<p>10000 rows × 5 columns</p>\n",
       "</div>"
      ],
      "text/plain": [
       "      age  goodsprice  qty         salary  formula\n",
       "0      51        1135    9  101591.610016    10215\n",
       "1      60         501    5   24491.610016     2505\n",
       "2      73         360   27   96641.610016     9720\n",
       "3      72        1079   20  215241.610016    21580\n",
       "4      31         377   24   89921.610016     9048\n",
       "...   ...         ...  ...            ...      ...\n",
       "9995   30        1149   12  137321.610016    13788\n",
       "9996   53         974    7   67621.610016     6818\n",
       "9997   61         465   25  115691.610016    11625\n",
       "9998   69         808   16  128721.610016    12928\n",
       "9999   51        1018   15  152141.610016    15270\n",
       "\n",
       "[10000 rows x 5 columns]"
      ]
     },
     "execution_count": 27,
     "metadata": {},
     "output_type": "execute_result"
    }
   ],
   "source": [
    "data['formula'] = data['qty'] * data['goodsprice']\n",
    "data"
   ]
  },
  {
   "cell_type": "code",
   "execution_count": 28,
   "metadata": {},
   "outputs": [
    {
     "data": {
      "text/plain": [
       "<matplotlib.axes._subplots.AxesSubplot at 0x1543e912348>"
      ]
     },
     "execution_count": 28,
     "metadata": {},
     "output_type": "execute_result"
    },
    {
     "data": {
      "image/png": "[encoded data removed]",
      "text/plain": [
       "<Figure size 432x288 with 1 Axes>"
      ]
     },
     "metadata": {
      "needs_background": "light"
     },
     "output_type": "display_data"
    }
   ],
   "source": [
    "sns.distplot(data[['formula']])"
   ]
  },
  {
   "cell_type": "markdown",
   "metadata": {},
   "source": [
    "Если возьмем теперь построим модель на основе нового признака и таргета, то ошика МАЕ будет близка к 0, что говорит о хорошей прогнозируемости модели и линейной зависимости."
   ]
  },
  {
   "cell_type": "code",
   "execution_count": 29,
   "metadata": {},
   "outputs": [
    {
     "name": "stdout",
     "output_type": "stream",
     "text": [
      "Coef: [10.]\n",
      "Intercept: -558.3899841603561\n",
      "MAE: 3.716795617947355e-11\n"
     ]
    }
   ],
   "source": [
    "Xfin = data[['formula']]\n",
    "y = data['salary']\n",
    "model_fin = LinearRegression()\n",
    "model_fin.fit(Xfin, y)\n",
    "print(f'Coef: {model_fin.coef_}')\n",
    "print(f'Intercept: {model_fin.intercept_}')\n",
    "\n",
    "prediction_fin = model_fin.predict(Xfin)\n",
    "print(f'MAE: {mean_absolute_error(prediction_fin, y)}')"
   ]
  },
  {
   "cell_type": "code",
   "execution_count": 30,
   "metadata": {},
   "outputs": [
    {
     "data": {
      "text/html": [
       "<div>\n",
       "<style scoped>\n",
       "    .dataframe tbody tr th:only-of-type {\n",
       "        vertical-align: middle;\n",
       "    }\n",
       "\n",
       "    .dataframe tbody tr th {\n",
       "        vertical-align: top;\n",
       "    }\n",
       "\n",
       "    .dataframe thead th {\n",
       "        text-align: right;\n",
       "    }\n",
       "</style>\n",
       "<table border=\"1\" class=\"dataframe\">\n",
       "  <thead>\n",
       "    <tr style=\"text-align: right;\">\n",
       "      <th></th>\n",
       "      <th>formula</th>\n",
       "      <th>salary</th>\n",
       "    </tr>\n",
       "  </thead>\n",
       "  <tbody>\n",
       "    <tr>\n",
       "      <td>formula</td>\n",
       "      <td>1.0</td>\n",
       "      <td>1.0</td>\n",
       "    </tr>\n",
       "    <tr>\n",
       "      <td>salary</td>\n",
       "      <td>1.0</td>\n",
       "      <td>1.0</td>\n",
       "    </tr>\n",
       "  </tbody>\n",
       "</table>\n",
       "</div>"
      ],
      "text/plain": [
       "         formula  salary\n",
       "formula      1.0     1.0\n",
       "salary       1.0     1.0"
      ]
     },
     "execution_count": 30,
     "metadata": {},
     "output_type": "execute_result"
    }
   ],
   "source": [
    "data[['formula', 'salary']].corr()"
   ]
  },
  {
   "cell_type": "code",
   "execution_count": 31,
   "metadata": {},
   "outputs": [
    {
     "data": {
      "text/html": [
       "<div>\n",
       "<style scoped>\n",
       "    .dataframe tbody tr th:only-of-type {\n",
       "        vertical-align: middle;\n",
       "    }\n",
       "\n",
       "    .dataframe tbody tr th {\n",
       "        vertical-align: top;\n",
       "    }\n",
       "\n",
       "    .dataframe thead th {\n",
       "        text-align: right;\n",
       "    }\n",
       "</style>\n",
       "<table border=\"1\" class=\"dataframe\">\n",
       "  <thead>\n",
       "    <tr style=\"text-align: right;\">\n",
       "      <th></th>\n",
       "      <th>age</th>\n",
       "      <th>goodsprice</th>\n",
       "      <th>qty</th>\n",
       "      <th>salary</th>\n",
       "      <th>formula</th>\n",
       "    </tr>\n",
       "  </thead>\n",
       "  <tbody>\n",
       "    <tr>\n",
       "      <td>age</td>\n",
       "      <td>1.000000</td>\n",
       "      <td>-0.002523</td>\n",
       "      <td>0.011853</td>\n",
       "      <td>0.012105</td>\n",
       "      <td>0.012105</td>\n",
       "    </tr>\n",
       "    <tr>\n",
       "      <td>goodsprice</td>\n",
       "      <td>-0.002523</td>\n",
       "      <td>1.000000</td>\n",
       "      <td>0.000879</td>\n",
       "      <td>0.565177</td>\n",
       "      <td>0.565177</td>\n",
       "    </tr>\n",
       "    <tr>\n",
       "      <td>qty</td>\n",
       "      <td>0.011853</td>\n",
       "      <td>0.000879</td>\n",
       "      <td>1.000000</td>\n",
       "      <td>0.764040</td>\n",
       "      <td>0.764040</td>\n",
       "    </tr>\n",
       "    <tr>\n",
       "      <td>salary</td>\n",
       "      <td>0.012105</td>\n",
       "      <td>0.565177</td>\n",
       "      <td>0.764040</td>\n",
       "      <td>1.000000</td>\n",
       "      <td>1.000000</td>\n",
       "    </tr>\n",
       "    <tr>\n",
       "      <td>formula</td>\n",
       "      <td>0.012105</td>\n",
       "      <td>0.565177</td>\n",
       "      <td>0.764040</td>\n",
       "      <td>1.000000</td>\n",
       "      <td>1.000000</td>\n",
       "    </tr>\n",
       "  </tbody>\n",
       "</table>\n",
       "</div>"
      ],
      "text/plain": [
       "                 age  goodsprice       qty    salary   formula\n",
       "age         1.000000   -0.002523  0.011853  0.012105  0.012105\n",
       "goodsprice -0.002523    1.000000  0.000879  0.565177  0.565177\n",
       "qty         0.011853    0.000879  1.000000  0.764040  0.764040\n",
       "salary      0.012105    0.565177  0.764040  1.000000  1.000000\n",
       "formula     0.012105    0.565177  0.764040  1.000000  1.000000"
      ]
     },
     "execution_count": 31,
     "metadata": {},
     "output_type": "execute_result"
    }
   ],
   "source": [
    "data.corr()"
   ]
  },
  {
   "cell_type": "markdown",
   "metadata": {},
   "source": [
    "Если в модель добавить дополнительно все признаки, то видим, что качество улучшилось (МАЕ снизилось), хотя насколько я понимаю, дополнительное количество признаков должно требовать большее количество данных в датасете для того же уровня качества предсказаний. Если обратить внимание на коэффициенты признаков, то можно заметить, что они близки к нулю, что говорит об их низком влиянии на предсказательную способность модели."
   ]
  },
  {
   "cell_type": "code",
   "execution_count": 32,
   "metadata": {},
   "outputs": [
    {
     "name": "stdout",
     "output_type": "stream",
     "text": [
      "Coef: [8.99621245e-14 6.90242660e-12 2.99074310e-14 1.00000000e+01]\n",
      "Intercept: -558.3899841604725\n",
      "MAE: 2.809927082125796e-11\n"
     ]
    }
   ],
   "source": [
    "\n",
    "Xfin = data[['age', 'qty', 'goodsprice', 'formula']]\n",
    "y = data['salary']\n",
    "model_fin = LinearRegression()\n",
    "model_fin.fit(Xfin, y)\n",
    "print(f'Coef: {model_fin.coef_}')\n",
    "print(f'Intercept: {model_fin.intercept_}')\n",
    "\n",
    "prediction_fin = model_fin.predict(Xfin)\n",
    "print(f'MAE: {mean_absolute_error(prediction_fin, y)}')"
   ]
  },
  {
   "cell_type": "code",
   "execution_count": null,
   "metadata": {},
   "outputs": [],
   "source": []
  }
 ],
 "metadata": {
  "kernelspec": {
   "display_name": "Python 3",
   "language": "python",
   "name": "python3"
  },
  "language_info": {
   "codemirror_mode": {
    "name": "ipython",
    "version": 3
   },
   "file_extension": ".py",
   "mimetype": "text/x-python",
   "name": "python",
   "nbconvert_exporter": "python",
   "pygments_lexer": "ipython3",
   "version": "3.7.4"
  }
 },
 "nbformat": 4,
 "nbformat_minor": 2
}
